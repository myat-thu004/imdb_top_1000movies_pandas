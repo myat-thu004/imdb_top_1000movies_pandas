{
 "cells": [
  {
   "cell_type": "code",
   "execution_count": 1,
   "metadata": {},
   "outputs": [],
   "source": [
    "import pandas as pd\n",
    "import matplotlib.pyplot as plt\n",
    "import numpy as np\n",
    "from sklearn.model_selection import train_test_split \n",
    "from sklearn import datasets, linear_model, metrics\n",
    "df = pd.read_csv(\"./datasets/imdb_clean.csv\")"
   ]
  },
  {
   "cell_type": "code",
   "execution_count": 2,
   "metadata": {},
   "outputs": [
    {
     "data": {
      "text/html": [
       "<div>\n",
       "<style scoped>\n",
       "    .dataframe tbody tr th:only-of-type {\n",
       "        vertical-align: middle;\n",
       "    }\n",
       "\n",
       "    .dataframe tbody tr th {\n",
       "        vertical-align: top;\n",
       "    }\n",
       "\n",
       "    .dataframe thead th {\n",
       "        text-align: right;\n",
       "    }\n",
       "</style>\n",
       "<table border=\"1\" class=\"dataframe\">\n",
       "  <thead>\n",
       "    <tr style=\"text-align: right;\">\n",
       "      <th></th>\n",
       "      <th>Unnamed: 0</th>\n",
       "      <th>title</th>\n",
       "      <th>director</th>\n",
       "      <th>release_year</th>\n",
       "      <th>runtime</th>\n",
       "      <th>genre</th>\n",
       "      <th>rating</th>\n",
       "      <th>metascore</th>\n",
       "      <th>gross(M)</th>\n",
       "    </tr>\n",
       "  </thead>\n",
       "  <tbody>\n",
       "    <tr>\n",
       "      <th>0</th>\n",
       "      <td>0</td>\n",
       "      <td>The Shawshank Redemption</td>\n",
       "      <td>Frank Darabont</td>\n",
       "      <td>1994</td>\n",
       "      <td>142</td>\n",
       "      <td>Drama</td>\n",
       "      <td>9.3</td>\n",
       "      <td>82</td>\n",
       "      <td>28.34</td>\n",
       "    </tr>\n",
       "    <tr>\n",
       "      <th>1</th>\n",
       "      <td>1</td>\n",
       "      <td>The Godfather</td>\n",
       "      <td>Francis Ford Coppola</td>\n",
       "      <td>1972</td>\n",
       "      <td>175</td>\n",
       "      <td>Crime</td>\n",
       "      <td>9.2</td>\n",
       "      <td>100</td>\n",
       "      <td>134.97</td>\n",
       "    </tr>\n",
       "    <tr>\n",
       "      <th>2</th>\n",
       "      <td>1</td>\n",
       "      <td>The Godfather</td>\n",
       "      <td>Francis Ford Coppola</td>\n",
       "      <td>1972</td>\n",
       "      <td>175</td>\n",
       "      <td>Drama</td>\n",
       "      <td>9.2</td>\n",
       "      <td>100</td>\n",
       "      <td>134.97</td>\n",
       "    </tr>\n",
       "    <tr>\n",
       "      <th>3</th>\n",
       "      <td>2</td>\n",
       "      <td>The Dark Knight</td>\n",
       "      <td>Christopher Nolan</td>\n",
       "      <td>2008</td>\n",
       "      <td>152</td>\n",
       "      <td>Action</td>\n",
       "      <td>9.0</td>\n",
       "      <td>84</td>\n",
       "      <td>534.86</td>\n",
       "    </tr>\n",
       "    <tr>\n",
       "      <th>4</th>\n",
       "      <td>2</td>\n",
       "      <td>The Dark Knight</td>\n",
       "      <td>Christopher Nolan</td>\n",
       "      <td>2008</td>\n",
       "      <td>152</td>\n",
       "      <td>Crime</td>\n",
       "      <td>9.0</td>\n",
       "      <td>84</td>\n",
       "      <td>534.86</td>\n",
       "    </tr>\n",
       "  </tbody>\n",
       "</table>\n",
       "</div>"
      ],
      "text/plain": [
       "   Unnamed: 0                     title              director  release_year  \\\n",
       "0           0  The Shawshank Redemption        Frank Darabont          1994   \n",
       "1           1             The Godfather  Francis Ford Coppola          1972   \n",
       "2           1             The Godfather  Francis Ford Coppola          1972   \n",
       "3           2           The Dark Knight     Christopher Nolan          2008   \n",
       "4           2           The Dark Knight     Christopher Nolan          2008   \n",
       "\n",
       "   runtime   genre  rating  metascore  gross(M)  \n",
       "0      142   Drama     9.3         82     28.34  \n",
       "1      175   Crime     9.2        100    134.97  \n",
       "2      175   Drama     9.2        100    134.97  \n",
       "3      152  Action     9.0         84    534.86  \n",
       "4      152   Crime     9.0         84    534.86  "
      ]
     },
     "execution_count": 2,
     "metadata": {},
     "output_type": "execute_result"
    }
   ],
   "source": [
    "df.head()"
   ]
  },
  {
   "cell_type": "code",
   "execution_count": 3,
   "metadata": {},
   "outputs": [
    {
     "data": {
      "text/plain": [
       "(2532, 9)"
      ]
     },
     "execution_count": 3,
     "metadata": {},
     "output_type": "execute_result"
    }
   ],
   "source": [
    "df.shape"
   ]
  },
  {
   "cell_type": "code",
   "execution_count": 4,
   "metadata": {},
   "outputs": [
    {
     "data": {
      "text/html": [
       "<div>\n",
       "<style scoped>\n",
       "    .dataframe tbody tr th:only-of-type {\n",
       "        vertical-align: middle;\n",
       "    }\n",
       "\n",
       "    .dataframe tbody tr th {\n",
       "        vertical-align: top;\n",
       "    }\n",
       "\n",
       "    .dataframe thead th {\n",
       "        text-align: right;\n",
       "    }\n",
       "</style>\n",
       "<table border=\"1\" class=\"dataframe\">\n",
       "  <thead>\n",
       "    <tr style=\"text-align: right;\">\n",
       "      <th></th>\n",
       "      <th>Unnamed: 0</th>\n",
       "      <th>release_year</th>\n",
       "      <th>runtime</th>\n",
       "      <th>rating</th>\n",
       "      <th>metascore</th>\n",
       "      <th>gross(M)</th>\n",
       "    </tr>\n",
       "  </thead>\n",
       "  <tbody>\n",
       "    <tr>\n",
       "      <th>count</th>\n",
       "      <td>2532.000000</td>\n",
       "      <td>2532.000000</td>\n",
       "      <td>2532.000000</td>\n",
       "      <td>2532.000000</td>\n",
       "      <td>2532.000000</td>\n",
       "      <td>2532.000000</td>\n",
       "    </tr>\n",
       "    <tr>\n",
       "      <th>mean</th>\n",
       "      <td>501.339258</td>\n",
       "      <td>1992.215640</td>\n",
       "      <td>124.213665</td>\n",
       "      <td>7.966035</td>\n",
       "      <td>66.487362</td>\n",
       "      <td>61.656303</td>\n",
       "    </tr>\n",
       "    <tr>\n",
       "      <th>std</th>\n",
       "      <td>289.372567</td>\n",
       "      <td>24.244151</td>\n",
       "      <td>28.910941</td>\n",
       "      <td>0.274246</td>\n",
       "      <td>30.519333</td>\n",
       "      <td>113.390273</td>\n",
       "    </tr>\n",
       "    <tr>\n",
       "      <th>min</th>\n",
       "      <td>0.000000</td>\n",
       "      <td>1920.000000</td>\n",
       "      <td>45.000000</td>\n",
       "      <td>7.600000</td>\n",
       "      <td>0.000000</td>\n",
       "      <td>0.000000</td>\n",
       "    </tr>\n",
       "    <tr>\n",
       "      <th>25%</th>\n",
       "      <td>248.000000</td>\n",
       "      <td>1976.000000</td>\n",
       "      <td>103.000000</td>\n",
       "      <td>7.800000</td>\n",
       "      <td>64.000000</td>\n",
       "      <td>0.280000</td>\n",
       "    </tr>\n",
       "    <tr>\n",
       "      <th>50%</th>\n",
       "      <td>503.000000</td>\n",
       "      <td>2000.000000</td>\n",
       "      <td>120.000000</td>\n",
       "      <td>7.900000</td>\n",
       "      <td>76.000000</td>\n",
       "      <td>10.730000</td>\n",
       "    </tr>\n",
       "    <tr>\n",
       "      <th>75%</th>\n",
       "      <td>749.000000</td>\n",
       "      <td>2011.000000</td>\n",
       "      <td>139.000000</td>\n",
       "      <td>8.100000</td>\n",
       "      <td>86.000000</td>\n",
       "      <td>68.105000</td>\n",
       "    </tr>\n",
       "    <tr>\n",
       "      <th>max</th>\n",
       "      <td>999.000000</td>\n",
       "      <td>2023.000000</td>\n",
       "      <td>321.000000</td>\n",
       "      <td>9.300000</td>\n",
       "      <td>100.000000</td>\n",
       "      <td>936.660000</td>\n",
       "    </tr>\n",
       "  </tbody>\n",
       "</table>\n",
       "</div>"
      ],
      "text/plain": [
       "        Unnamed: 0  release_year      runtime       rating    metascore  \\\n",
       "count  2532.000000   2532.000000  2532.000000  2532.000000  2532.000000   \n",
       "mean    501.339258   1992.215640   124.213665     7.966035    66.487362   \n",
       "std     289.372567     24.244151    28.910941     0.274246    30.519333   \n",
       "min       0.000000   1920.000000    45.000000     7.600000     0.000000   \n",
       "25%     248.000000   1976.000000   103.000000     7.800000    64.000000   \n",
       "50%     503.000000   2000.000000   120.000000     7.900000    76.000000   \n",
       "75%     749.000000   2011.000000   139.000000     8.100000    86.000000   \n",
       "max     999.000000   2023.000000   321.000000     9.300000   100.000000   \n",
       "\n",
       "          gross(M)  \n",
       "count  2532.000000  \n",
       "mean     61.656303  \n",
       "std     113.390273  \n",
       "min       0.000000  \n",
       "25%       0.280000  \n",
       "50%      10.730000  \n",
       "75%      68.105000  \n",
       "max     936.660000  "
      ]
     },
     "execution_count": 4,
     "metadata": {},
     "output_type": "execute_result"
    }
   ],
   "source": [
    "df.describe()"
   ]
  },
  {
   "cell_type": "code",
   "execution_count": 5,
   "metadata": {},
   "outputs": [
    {
     "name": "stdout",
     "output_type": "stream",
     "text": [
      "<class 'pandas.core.frame.DataFrame'>\n",
      "RangeIndex: 2532 entries, 0 to 2531\n",
      "Data columns (total 9 columns):\n",
      " #   Column        Non-Null Count  Dtype  \n",
      "---  ------        --------------  -----  \n",
      " 0   Unnamed: 0    2532 non-null   int64  \n",
      " 1   title         2532 non-null   object \n",
      " 2   director      2532 non-null   object \n",
      " 3   release_year  2532 non-null   int64  \n",
      " 4   runtime       2532 non-null   int64  \n",
      " 5   genre         2532 non-null   object \n",
      " 6   rating        2532 non-null   float64\n",
      " 7   metascore     2532 non-null   int64  \n",
      " 8   gross(M)      2532 non-null   float64\n",
      "dtypes: float64(2), int64(4), object(3)\n",
      "memory usage: 178.2+ KB\n"
     ]
    }
   ],
   "source": [
    "df.info()"
   ]
  },
  {
   "cell_type": "code",
   "execution_count": 6,
   "metadata": {},
   "outputs": [
    {
     "data": {
      "text/plain": [
       "Unnamed: 0      0\n",
       "title           0\n",
       "director        0\n",
       "release_year    0\n",
       "runtime         0\n",
       "genre           0\n",
       "rating          0\n",
       "metascore       0\n",
       "gross(M)        0\n",
       "dtype: int64"
      ]
     },
     "execution_count": 6,
     "metadata": {},
     "output_type": "execute_result"
    }
   ],
   "source": [
    "df.isna().sum()"
   ]
  },
  {
   "cell_type": "code",
   "execution_count": 7,
   "metadata": {},
   "outputs": [],
   "source": [
    "#df = df.convert_dtypes()\n",
    "#df.info()"
   ]
  },
  {
   "cell_type": "code",
   "execution_count": null,
   "metadata": {},
   "outputs": [
    {
     "data": {
      "text/html": [
       "<div>\n",
       "<style scoped>\n",
       "    .dataframe tbody tr th:only-of-type {\n",
       "        vertical-align: middle;\n",
       "    }\n",
       "\n",
       "    .dataframe tbody tr th {\n",
       "        vertical-align: top;\n",
       "    }\n",
       "\n",
       "    .dataframe thead th {\n",
       "        text-align: right;\n",
       "    }\n",
       "</style>\n",
       "<table border=\"1\" class=\"dataframe\">\n",
       "  <thead>\n",
       "    <tr style=\"text-align: right;\">\n",
       "      <th></th>\n",
       "      <th>Unnamed: 0</th>\n",
       "      <th>title</th>\n",
       "      <th>director</th>\n",
       "      <th>release_year</th>\n",
       "      <th>runtime</th>\n",
       "      <th>genre</th>\n",
       "      <th>rating</th>\n",
       "      <th>metascore</th>\n",
       "      <th>gross(M)</th>\n",
       "    </tr>\n",
       "  </thead>\n",
       "  <tbody>\n",
       "    <tr>\n",
       "      <th>0</th>\n",
       "      <td>0</td>\n",
       "      <td>The Shawshank Redemption</td>\n",
       "      <td>Frank Darabont</td>\n",
       "      <td>1994</td>\n",
       "      <td>142</td>\n",
       "      <td>Drama</td>\n",
       "      <td>9.3</td>\n",
       "      <td>82</td>\n",
       "      <td>28.34</td>\n",
       "    </tr>\n",
       "    <tr>\n",
       "      <th>1</th>\n",
       "      <td>1</td>\n",
       "      <td>The Godfather</td>\n",
       "      <td>Francis Ford Coppola</td>\n",
       "      <td>1972</td>\n",
       "      <td>175</td>\n",
       "      <td>Crime</td>\n",
       "      <td>9.2</td>\n",
       "      <td>100</td>\n",
       "      <td>134.97</td>\n",
       "    </tr>\n",
       "    <tr>\n",
       "      <th>2</th>\n",
       "      <td>1</td>\n",
       "      <td>The Godfather</td>\n",
       "      <td>Francis Ford Coppola</td>\n",
       "      <td>1972</td>\n",
       "      <td>175</td>\n",
       "      <td>Drama</td>\n",
       "      <td>9.2</td>\n",
       "      <td>100</td>\n",
       "      <td>134.97</td>\n",
       "    </tr>\n",
       "    <tr>\n",
       "      <th>3</th>\n",
       "      <td>2</td>\n",
       "      <td>The Dark Knight</td>\n",
       "      <td>Christopher Nolan</td>\n",
       "      <td>2008</td>\n",
       "      <td>152</td>\n",
       "      <td>Action</td>\n",
       "      <td>9.0</td>\n",
       "      <td>84</td>\n",
       "      <td>534.86</td>\n",
       "    </tr>\n",
       "    <tr>\n",
       "      <th>4</th>\n",
       "      <td>2</td>\n",
       "      <td>The Dark Knight</td>\n",
       "      <td>Christopher Nolan</td>\n",
       "      <td>2008</td>\n",
       "      <td>152</td>\n",
       "      <td>Crime</td>\n",
       "      <td>9.0</td>\n",
       "      <td>84</td>\n",
       "      <td>534.86</td>\n",
       "    </tr>\n",
       "  </tbody>\n",
       "</table>\n",
       "</div>"
      ],
      "text/plain": [
       "   Unnamed: 0                     title              director  release_year  \\\n",
       "0           0  The Shawshank Redemption        Frank Darabont          1994   \n",
       "1           1             The Godfather  Francis Ford Coppola          1972   \n",
       "2           1             The Godfather  Francis Ford Coppola          1972   \n",
       "3           2           The Dark Knight     Christopher Nolan          2008   \n",
       "4           2           The Dark Knight     Christopher Nolan          2008   \n",
       "\n",
       "   runtime   genre  rating  metascore  gross(M)  \n",
       "0      142   Drama     9.3         82     28.34  \n",
       "1      175   Crime     9.2        100    134.97  \n",
       "2      175   Drama     9.2        100    134.97  \n",
       "3      152  Action     9.0         84    534.86  \n",
       "4      152   Crime     9.0         84    534.86  "
      ]
     },
     "execution_count": 8,
     "metadata": {},
     "output_type": "execute_result"
    }
   ],
   "source": [
    "df['release_year'].apply(lambda x: pd.to_datetime(str(x), format='%Y'))\n",
    "df.head()"
   ]
  },
  {
   "cell_type": "code",
   "execution_count": null,
   "metadata": {},
   "outputs": [],
   "source": [
    "df[\"ID\"] = df[\"Unnamed: 0\"]"
   ]
  },
  {
   "cell_type": "code",
   "execution_count": null,
   "metadata": {},
   "outputs": [],
   "source": [
    "df.head()"
   ]
  },
  {
   "cell_type": "code",
   "execution_count": null,
   "metadata": {},
   "outputs": [],
   "source": [
    "df = df[['ID','title','director','release_year','runtime','genre','rating','metascore','gross(M)']]\n",
    "df.head()"
   ]
  },
  {
   "cell_type": "code",
   "execution_count": null,
   "metadata": {},
   "outputs": [],
   "source": [
    "correlation = df[['rating','metascore']].corr()\n",
    "print(correlation)"
   ]
  },
  {
   "cell_type": "code",
   "execution_count": null,
   "metadata": {},
   "outputs": [],
   "source": [
    "income = df[['rating','gross(M)']].corr()\n",
    "print(income)"
   ]
  },
  {
   "cell_type": "code",
   "execution_count": null,
   "metadata": {},
   "outputs": [],
   "source": [
    "year_corr = df[['release_year','gross(M)']].corr()\n",
    "print(year_corr)"
   ]
  },
  {
   "cell_type": "code",
   "execution_count": null,
   "metadata": {},
   "outputs": [],
   "source": [
    "X = df[['release_year','rating','metascore']]\n",
    "y = df['gross(M)']\n",
    "X_train,X_test,y_train,y_test = train_test_split(X,y,test_size=0.2,random_state=42)\n",
    "reg = linear_model.LinearRegression() \n",
    "reg.fit(X_train, y_train)\n",
    "# regression coefficients \n",
    "print('Coefficients: ', reg.coef_) \n",
    "# variance score: 1 means perfect prediction \n",
    "print('Variance score: {}'.format(reg.score(X_test,y_test)))"
   ]
  },
  {
   "cell_type": "code",
   "execution_count": null,
   "metadata": {},
   "outputs": [],
   "source": []
  }
 ],
 "metadata": {
  "kernelspec": {
   "display_name": "Python 3 (ipykernel)",
   "language": "python",
   "name": "python3"
  },
  "language_info": {
   "codemirror_mode": {
    "name": "ipython",
    "version": 3
   },
   "file_extension": ".py",
   "mimetype": "text/x-python",
   "name": "python",
   "nbconvert_exporter": "python",
   "pygments_lexer": "ipython3",
   "version": "3.12.7"
  }
 },
 "nbformat": 4,
 "nbformat_minor": 4
}
